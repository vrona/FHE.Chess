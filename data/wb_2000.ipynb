{
 "cells": [
  {
   "cell_type": "code",
   "execution_count": 24,
   "id": "a6a6f9ce",
   "metadata": {},
   "outputs": [],
   "source": [
    "import pandas as pd\n",
    "\n",
    "# getting the A.Revel kaggle dataset. focus on AN and ELO for white and black (no matter who won)\n",
    "raw = pd.read_csv(\"/Volumes/vrona_SSD/lichess_data/arevel_db.csv\", usecols=['AN', 'WhiteElo', 'BlackElo'])"
   ]
  },
  {
   "cell_type": "code",
   "execution_count": 33,
   "id": "d41dfaac",
   "metadata": {},
   "outputs": [
    {
     "data": {
      "text/plain": [
       "(626180, 3)"
      ]
     },
     "execution_count": 33,
     "metadata": {},
     "output_type": "execute_result"
    }
   ],
   "source": [
    "# keeping only ELO above 2000\n",
    "wb_2000 = raw[(raw['WhiteElo'] > 2000) & (raw['BlackElo'] > 2000)]\n",
    "wb_2000.shape"
   ]
  },
  {
   "cell_type": "code",
   "execution_count": 34,
   "id": "560718c2",
   "metadata": {},
   "outputs": [
    {
     "data": {
      "text/plain": [
       "(548141, 3)"
      ]
     },
     "execution_count": 34,
     "metadata": {},
     "output_type": "execute_result"
    }
   ],
   "source": [
    "# remove uncessary character\n",
    "wb_2000 = wb_2000[~wb_2000['AN'].str.contains('{')]\n",
    "wb_2000.shape\n"
   ]
  },
  {
   "cell_type": "code",
   "execution_count": 35,
   "id": "9571941b",
   "metadata": {},
   "outputs": [
    {
     "data": {
      "text/plain": [
       "(445539, 3)"
      ]
     },
     "execution_count": 35,
     "metadata": {},
     "output_type": "execute_result"
    }
   ],
   "source": [
    "# keeping only game with more than 300 character (more than 40 moves)\n",
    "wb_2000 = wb_2000[wb_2000['AN'].str.len() > 300]\n",
    "wb_2000.shape\n"
   ]
  },
  {
   "cell_type": "code",
   "execution_count": 16,
   "id": "6c65e59c",
   "metadata": {},
   "outputs": [
    {
     "data": {
      "text/html": [
       "<div>\n",
       "<style scoped>\n",
       "    .dataframe tbody tr th:only-of-type {\n",
       "        vertical-align: middle;\n",
       "    }\n",
       "\n",
       "    .dataframe tbody tr th {\n",
       "        vertical-align: top;\n",
       "    }\n",
       "\n",
       "    .dataframe thead th {\n",
       "        text-align: right;\n",
       "    }\n",
       "</style>\n",
       "<table border=\"1\" class=\"dataframe\">\n",
       "  <thead>\n",
       "    <tr style=\"text-align: right;\">\n",
       "      <th></th>\n",
       "      <th>WhiteElo</th>\n",
       "      <th>BlackElo</th>\n",
       "      <th>AN</th>\n",
       "    </tr>\n",
       "  </thead>\n",
       "  <tbody>\n",
       "    <tr>\n",
       "      <th>7</th>\n",
       "      <td>2155</td>\n",
       "      <td>2356</td>\n",
       "      <td>1. d4 d5 2. Nf3 Nf6 3. Bf4 c6 4. e3 Bg4 5. Be2...</td>\n",
       "    </tr>\n",
       "    <tr>\n",
       "      <th>8</th>\n",
       "      <td>2010</td>\n",
       "      <td>2111</td>\n",
       "      <td>1. d4 Nf6 2. Bf4 e6 3. e3 d5 4. Nf3 h6 5. Bd3 ...</td>\n",
       "    </tr>\n",
       "    <tr>\n",
       "      <th>26</th>\n",
       "      <td>2149</td>\n",
       "      <td>2047</td>\n",
       "      <td>1. e4 d6 2. d4 Nf6 3. Bd3 g6 4. h4 c5 5. h5 Nx...</td>\n",
       "    </tr>\n",
       "    <tr>\n",
       "      <th>39</th>\n",
       "      <td>2215</td>\n",
       "      <td>2072</td>\n",
       "      <td>1. e4 e6 2. d4 d5 3. Nc3 Bb4 4. e5 c5 5. a3 cx...</td>\n",
       "    </tr>\n",
       "    <tr>\n",
       "      <th>44</th>\n",
       "      <td>2053</td>\n",
       "      <td>2056</td>\n",
       "      <td>1. d4 d5 2. Nc3 c6 3. Nf3 Nf6 4. Bg5 e6 5. e3 ...</td>\n",
       "    </tr>\n",
       "  </tbody>\n",
       "</table>\n",
       "</div>"
      ],
      "text/plain": [
       "    WhiteElo  BlackElo                                                 AN\n",
       "7       2155      2356  1. d4 d5 2. Nf3 Nf6 3. Bf4 c6 4. e3 Bg4 5. Be2...\n",
       "8       2010      2111  1. d4 Nf6 2. Bf4 e6 3. e3 d5 4. Nf3 h6 5. Bd3 ...\n",
       "26      2149      2047  1. e4 d6 2. d4 Nf6 3. Bd3 g6 4. h4 c5 5. h5 Nx...\n",
       "39      2215      2072  1. e4 e6 2. d4 d5 3. Nc3 Bb4 4. e5 c5 5. a3 cx...\n",
       "44      2053      2056  1. d4 d5 2. Nc3 c6 3. Nf3 Nf6 4. Bg5 e6 5. e3 ..."
      ]
     },
     "execution_count": 16,
     "metadata": {},
     "output_type": "execute_result"
    }
   ],
   "source": [
    "# checking how it looks like\n",
    "wb_2000.head()"
   ]
  },
  {
   "cell_type": "code",
   "execution_count": 17,
   "id": "465b027a",
   "metadata": {},
   "outputs": [],
   "source": [
    "# saving as csv\n",
    "wb_2000_wthidx = wb_2000.to_csv(\"lichess_data/wb_2000_noidx.csv\", index=False)"
   ]
  },
  {
   "cell_type": "code",
   "execution_count": 18,
   "id": "9c47f258",
   "metadata": {},
   "outputs": [
    {
     "data": {
      "text/html": [
       "<div>\n",
       "<style scoped>\n",
       "    .dataframe tbody tr th:only-of-type {\n",
       "        vertical-align: middle;\n",
       "    }\n",
       "\n",
       "    .dataframe tbody tr th {\n",
       "        vertical-align: top;\n",
       "    }\n",
       "\n",
       "    .dataframe thead th {\n",
       "        text-align: right;\n",
       "    }\n",
       "</style>\n",
       "<table border=\"1\" class=\"dataframe\">\n",
       "  <thead>\n",
       "    <tr style=\"text-align: right;\">\n",
       "      <th></th>\n",
       "      <th>WhiteElo</th>\n",
       "      <th>BlackElo</th>\n",
       "      <th>AN</th>\n",
       "    </tr>\n",
       "  </thead>\n",
       "  <tbody>\n",
       "    <tr>\n",
       "      <th>0</th>\n",
       "      <td>2155</td>\n",
       "      <td>2356</td>\n",
       "      <td>1. d4 d5 2. Nf3 Nf6 3. Bf4 c6 4. e3 Bg4 5. Be2...</td>\n",
       "    </tr>\n",
       "    <tr>\n",
       "      <th>1</th>\n",
       "      <td>2010</td>\n",
       "      <td>2111</td>\n",
       "      <td>1. d4 Nf6 2. Bf4 e6 3. e3 d5 4. Nf3 h6 5. Bd3 ...</td>\n",
       "    </tr>\n",
       "    <tr>\n",
       "      <th>2</th>\n",
       "      <td>2149</td>\n",
       "      <td>2047</td>\n",
       "      <td>1. e4 d6 2. d4 Nf6 3. Bd3 g6 4. h4 c5 5. h5 Nx...</td>\n",
       "    </tr>\n",
       "    <tr>\n",
       "      <th>3</th>\n",
       "      <td>2215</td>\n",
       "      <td>2072</td>\n",
       "      <td>1. e4 e6 2. d4 d5 3. Nc3 Bb4 4. e5 c5 5. a3 cx...</td>\n",
       "    </tr>\n",
       "    <tr>\n",
       "      <th>4</th>\n",
       "      <td>2053</td>\n",
       "      <td>2056</td>\n",
       "      <td>1. d4 d5 2. Nc3 c6 3. Nf3 Nf6 4. Bg5 e6 5. e3 ...</td>\n",
       "    </tr>\n",
       "  </tbody>\n",
       "</table>\n",
       "</div>"
      ],
      "text/plain": [
       "   WhiteElo  BlackElo                                                 AN\n",
       "0      2155      2356  1. d4 d5 2. Nf3 Nf6 3. Bf4 c6 4. e3 Bg4 5. Be2...\n",
       "1      2010      2111  1. d4 Nf6 2. Bf4 e6 3. e3 d5 4. Nf3 h6 5. Bd3 ...\n",
       "2      2149      2047  1. e4 d6 2. d4 Nf6 3. Bd3 g6 4. h4 c5 5. h5 Nx...\n",
       "3      2215      2072  1. e4 e6 2. d4 d5 3. Nc3 Bb4 4. e5 c5 5. a3 cx...\n",
       "4      2053      2056  1. d4 d5 2. Nc3 c6 3. Nf3 Nf6 4. Bg5 e6 5. e3 ..."
      ]
     },
     "execution_count": 18,
     "metadata": {},
     "output_type": "execute_result"
    }
   ],
   "source": [
    "# check the saving\n",
    "wb_2000_noidx = pd.read_csv(\"lichess_data/wb_2000_noidx.csv\")\n",
    "wb_2000_noidx.head()"
   ]
  },
  {
   "cell_type": "code",
   "execution_count": 26,
   "id": "ae7356db",
   "metadata": {},
   "outputs": [
    {
     "data": {
      "text/html": [
       "<div>\n",
       "<style scoped>\n",
       "    .dataframe tbody tr th:only-of-type {\n",
       "        vertical-align: middle;\n",
       "    }\n",
       "\n",
       "    .dataframe tbody tr th {\n",
       "        vertical-align: top;\n",
       "    }\n",
       "\n",
       "    .dataframe thead th {\n",
       "        text-align: right;\n",
       "    }\n",
       "</style>\n",
       "<table border=\"1\" class=\"dataframe\">\n",
       "  <thead>\n",
       "    <tr style=\"text-align: right;\">\n",
       "      <th></th>\n",
       "      <th>AN</th>\n",
       "    </tr>\n",
       "  </thead>\n",
       "  <tbody>\n",
       "    <tr>\n",
       "      <th>0</th>\n",
       "      <td>1. d4 d5 2. Nf3 Nf6 3. Bf4 c6 4. e3 Bg4 5. Be2...</td>\n",
       "    </tr>\n",
       "    <tr>\n",
       "      <th>1</th>\n",
       "      <td>1. d4 Nf6 2. Bf4 e6 3. e3 d5 4. Nf3 h6 5. Bd3 ...</td>\n",
       "    </tr>\n",
       "    <tr>\n",
       "      <th>2</th>\n",
       "      <td>1. e4 d6 2. d4 Nf6 3. Bd3 g6 4. h4 c5 5. h5 Nx...</td>\n",
       "    </tr>\n",
       "    <tr>\n",
       "      <th>3</th>\n",
       "      <td>1. e4 e6 2. d4 d5 3. Nc3 Bb4 4. e5 c5 5. a3 cx...</td>\n",
       "    </tr>\n",
       "    <tr>\n",
       "      <th>4</th>\n",
       "      <td>1. d4 d5 2. Nc3 c6 3. Nf3 Nf6 4. Bg5 e6 5. e3 ...</td>\n",
       "    </tr>\n",
       "  </tbody>\n",
       "</table>\n",
       "</div>"
      ],
      "text/plain": [
       "                                                  AN\n",
       "0  1. d4 d5 2. Nf3 Nf6 3. Bf4 c6 4. e3 Bg4 5. Be2...\n",
       "1  1. d4 Nf6 2. Bf4 e6 3. e3 d5 4. Nf3 h6 5. Bd3 ...\n",
       "2  1. e4 d6 2. d4 Nf6 3. Bd3 g6 4. h4 c5 5. h5 Nx...\n",
       "3  1. e4 e6 2. d4 d5 3. Nc3 Bb4 4. e5 c5 5. a3 cx...\n",
       "4  1. d4 d5 2. Nc3 c6 3. Nf3 Nf6 4. Bg5 e6 5. e3 ..."
      ]
     },
     "execution_count": 26,
     "metadata": {},
     "output_type": "execute_result"
    }
   ],
   "source": [
    "# dropping WhiteElo\tBlackElo\n",
    "wb_2000_noidx = wb_2000_noidx.drop([\"WhiteElo\", \"BlackElo\"], axis=1)\n",
    "wb_2000_noidx.head()"
   ]
  },
  {
   "cell_type": "code",
   "execution_count": 5,
   "id": "39aa4d61",
   "metadata": {},
   "outputs": [
    {
     "name": "stdout",
     "output_type": "stream",
     "text": [
      "                                                       AN\n",
      "188632  1. d4 c5 2. d5 d6 3. c4 Nf6 4. Nc3 Bg4 5. e4 B...\n",
      "173375  1. e4 c5 2. b3 Nc6 3. Bb2 e5 4. Bb5 Nge7 5. Ne...\n",
      "163782  1. e4 a6 2. d4 b5 3. a4 b4 4. c3 a5 5. cxb4 ax...\n",
      "364799  1. Nf3 g6 2. d4 Bg7 3. c3 c5 4. Bf4 cxd4 5. cx...\n",
      "436504  1. g3 d5 2. Bg2 e6 3. b3 c5 4. Bb2 Nc6 5. Nf3 ...\n"
     ]
    }
   ],
   "source": [
    "# testing & splitting the dataset into 3 sets (could be done with sklearn.model_selection .train_test_split)\n",
    "import numpy as np\n",
    "training_set, valid_set, test_set = np.split(wb_2000_noidx.sample(frac=1, random_state=42), [int(.6*len(wb_2000_noidx)), int(.8*len(wb_2000_noidx))])"
   ]
  },
  {
   "cell_type": "code",
   "execution_count": 6,
   "id": "995ccde8",
   "metadata": {},
   "outputs": [],
   "source": [
    "# if needed saving each datasets as csv\n",
    "training_set.to_csv(\"lichess_data/chess_training_set.csv\", index=False)\n",
    "valid_set.to_csv(\"lichess_data/chess_valid_set.csv\", index=False)\n",
    "test_set.to_csv(\"lichess_data/chess_test_set.csv\", index=False)"
   ]
  },
  {
   "cell_type": "code",
   "execution_count": 15,
   "id": "676b8011",
   "metadata": {},
   "outputs": [
    {
     "name": "stdout",
     "output_type": "stream",
     "text": [
      "(327868, 1) (109289, 1) (109290, 1)\n"
     ]
    }
   ],
   "source": [
    "print(trainset.shape,validset.shape,testset.shape)"
   ]
  },
  {
   "cell_type": "code",
   "execution_count": 21,
   "id": "1f6a7625",
   "metadata": {},
   "outputs": [],
   "source": [
    "# testing SQL\n",
    "import sqlite3\n",
    "from pathlib import Path\n",
    "\n",
    "# create empty .db file\n",
    "Path('chess_wb2000_train.db').touch()\n",
    "Path('chess_wb2000_valid.db').touch()\n",
    "Path('chess_wb2000_test.db').touch()\n",
    "\n",
    "#data = pd.read_csv(\"lichess_data/wb_2000.csv\")"
   ]
  },
  {
   "cell_type": "code",
   "execution_count": 45,
   "id": "6ac7b127",
   "metadata": {},
   "outputs": [],
   "source": [
    "# connect to sqlite\n",
    "conn = sqlite3.connect('chess_wb2000_db.db')\n",
    "cur = conn.cursor()"
   ]
  },
  {
   "cell_type": "code",
   "execution_count": 47,
   "id": "b3f77619",
   "metadata": {},
   "outputs": [
    {
     "data": {
      "text/plain": [
       "Index(['AN'], dtype='object')"
      ]
     },
     "execution_count": 47,
     "metadata": {},
     "output_type": "execute_result"
    }
   ],
   "source": [
    "wb_2000_noidx.columns"
   ]
  },
  {
   "cell_type": "code",
   "execution_count": 46,
   "id": "37eb74e4",
   "metadata": {},
   "outputs": [
    {
     "data": {
      "text/plain": [
       "<sqlite3.Cursor at 0x12e9ad730>"
      ]
     },
     "execution_count": 46,
     "metadata": {},
     "output_type": "execute_result"
    }
   ],
   "source": [
    "# create table\n",
    "cur.execute(\"CREATE TABLE games (id INTEGER PRIMARY KEY, AN text)\")"
   ]
  },
  {
   "cell_type": "code",
   "execution_count": 48,
   "id": "8a1ccb66",
   "metadata": {},
   "outputs": [
    {
     "data": {
      "text/plain": [
       "546447"
      ]
     },
     "execution_count": 48,
     "metadata": {},
     "output_type": "execute_result"
    }
   ],
   "source": [
    "# tricky part keep the index from DF with index=True but rename the column of index by \"id\"\n",
    "wb_2000_noidx.to_sql('games', conn, if_exists='append', index=True, index_label='id')"
   ]
  },
  {
   "cell_type": "code",
   "execution_count": 17,
   "id": "2e03e29d",
   "metadata": {},
   "outputs": [],
   "source": [
    "# industrialization of above\n",
    "def create_db(dataframe, name):\n",
    "    conn = sqlite3.connect(name)\n",
    "    cur = conn.cursor()\n",
    "    cur.execute(\"CREATE TABLE games (id INTEGER PRIMARY KEY, AN text)\")\n",
    "    dataframe.to_sql('games', conn, if_exists='append', index=True, index_label='id')"
   ]
  },
  {
   "cell_type": "code",
   "execution_count": 22,
   "id": "cd7cb62d",
   "metadata": {},
   "outputs": [],
   "source": [
    "listofdataframe = [trainset,validset,testset]\n",
    "listofname = ['chess_wb2000_train.db','chess_wb2000_valid.db','chess_wb2000_test.db']\n",
    "for df, x in zip(listofdataframe, listofname):\n",
    "    create_db(df, x)"
   ]
  }
 ],
 "metadata": {
  "kernelspec": {
   "display_name": "fhe_chess",
   "language": "python",
   "name": "python3"
  },
  "language_info": {
   "codemirror_mode": {
    "name": "ipython",
    "version": 3
   },
   "file_extension": ".py",
   "mimetype": "text/x-python",
   "name": "python",
   "nbconvert_exporter": "python",
   "pygments_lexer": "ipython3",
   "version": "3.8.2"
  }
 },
 "nbformat": 4,
 "nbformat_minor": 5
}
